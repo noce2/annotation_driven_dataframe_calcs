{
 "metadata": {
  "language_info": {
   "codemirror_mode": {
    "name": "ipython",
    "version": 3
   },
   "file_extension": ".py",
   "mimetype": "text/x-python",
   "name": "python",
   "nbconvert_exporter": "python",
   "pygments_lexer": "ipython3",
   "version": "3.8.5-final"
  },
  "orig_nbformat": 2,
  "kernelspec": {
   "name": "python3",
   "display_name": "Python 3.8.5 64-bit ('annotation_driven_dataframe_calcs': conda)",
   "metadata": {
    "interpreter": {
     "hash": "4d4a7c4c2a72dc6b629805efd0975ad20f27a612c5e20f61e65c505b1f2d0c91"
    }
   }
  }
 },
 "nbformat": 4,
 "nbformat_minor": 2,
 "cells": [
  {
   "source": [
    "## Getting Started\n",
    "First generating some test data"
   ],
   "cell_type": "markdown",
   "metadata": {}
  },
  {
   "cell_type": "code",
   "execution_count": 1,
   "metadata": {},
   "outputs": [],
   "source": [
    "%load_ext autoreload\n",
    "%autoreload 2"
   ]
  },
  {
   "cell_type": "code",
   "execution_count": 2,
   "metadata": {},
   "outputs": [],
   "source": [
    "import pandas as pd\n",
    "from annotation_driven_dataframe_calcs.annotation_driven_dataframe_calcs import expand_for_timesteps\n",
    "from annotation_driven_dataframe_calcs.column_names import TIMESTEP_NO, ACCOUNT_NO, PARAM_C, PARAM_B, PARAM_A\n",
    "\n",
    "fake_data = pd.DataFrame({\n",
    "    ACCOUNT_NO: [1, 2, 3, 4],\n",
    "    PARAM_A: [201908, 201907, 201906, 201905],\n",
    "    PARAM_B: [10, 15, 20, 25],\n",
    "    PARAM_C: [5, 6, 7, 8]\n",
    "})"
   ]
  },
  {
   "cell_type": "code",
   "execution_count": 3,
   "metadata": {},
   "outputs": [
    {
     "output_type": "execute_result",
     "data": {
      "text/plain": [
       "                     COLUMN_A  COLUMN_B  COLUMN_C\n",
       "ACCT_NO TIMESTEP_NO                              \n",
       "1       1              201908        10         5\n",
       "        2              201908        10         5\n",
       "        3              201908        10         5\n",
       "2       1              201907        15         6\n",
       "        2              201907        15         6\n",
       "        3              201907        15         6\n",
       "3       1              201906        20         7\n",
       "        2              201906        20         7\n",
       "        3              201906        20         7\n",
       "4       1              201905        25         8\n",
       "        2              201905        25         8\n",
       "        3              201905        25         8"
      ],
      "text/html": "<div>\n<style scoped>\n    .dataframe tbody tr th:only-of-type {\n        vertical-align: middle;\n    }\n\n    .dataframe tbody tr th {\n        vertical-align: top;\n    }\n\n    .dataframe thead th {\n        text-align: right;\n    }\n</style>\n<table border=\"1\" class=\"dataframe\">\n  <thead>\n    <tr style=\"text-align: right;\">\n      <th></th>\n      <th></th>\n      <th>COLUMN_A</th>\n      <th>COLUMN_B</th>\n      <th>COLUMN_C</th>\n    </tr>\n    <tr>\n      <th>ACCT_NO</th>\n      <th>TIMESTEP_NO</th>\n      <th></th>\n      <th></th>\n      <th></th>\n    </tr>\n  </thead>\n  <tbody>\n    <tr>\n      <th rowspan=\"3\" valign=\"top\">1</th>\n      <th>1</th>\n      <td>201908</td>\n      <td>10</td>\n      <td>5</td>\n    </tr>\n    <tr>\n      <th>2</th>\n      <td>201908</td>\n      <td>10</td>\n      <td>5</td>\n    </tr>\n    <tr>\n      <th>3</th>\n      <td>201908</td>\n      <td>10</td>\n      <td>5</td>\n    </tr>\n    <tr>\n      <th rowspan=\"3\" valign=\"top\">2</th>\n      <th>1</th>\n      <td>201907</td>\n      <td>15</td>\n      <td>6</td>\n    </tr>\n    <tr>\n      <th>2</th>\n      <td>201907</td>\n      <td>15</td>\n      <td>6</td>\n    </tr>\n    <tr>\n      <th>3</th>\n      <td>201907</td>\n      <td>15</td>\n      <td>6</td>\n    </tr>\n    <tr>\n      <th rowspan=\"3\" valign=\"top\">3</th>\n      <th>1</th>\n      <td>201906</td>\n      <td>20</td>\n      <td>7</td>\n    </tr>\n    <tr>\n      <th>2</th>\n      <td>201906</td>\n      <td>20</td>\n      <td>7</td>\n    </tr>\n    <tr>\n      <th>3</th>\n      <td>201906</td>\n      <td>20</td>\n      <td>7</td>\n    </tr>\n    <tr>\n      <th rowspan=\"3\" valign=\"top\">4</th>\n      <th>1</th>\n      <td>201905</td>\n      <td>25</td>\n      <td>8</td>\n    </tr>\n    <tr>\n      <th>2</th>\n      <td>201905</td>\n      <td>25</td>\n      <td>8</td>\n    </tr>\n    <tr>\n      <th>3</th>\n      <td>201905</td>\n      <td>25</td>\n      <td>8</td>\n    </tr>\n  </tbody>\n</table>\n</div>"
     },
     "metadata": {},
     "execution_count": 3
    }
   ],
   "source": [
    "result = expand_for_timesteps(fake_data, 1, 3)\n",
    "result"
   ]
  },
  {
   "cell_type": "code",
   "execution_count": 18,
   "metadata": {},
   "outputs": [
    {
     "output_type": "stream",
     "name": "stderr",
     "text": [
      "2020-12-14 19:42:52.729 | DEBUG    | annotation_driven_dataframe_calcs.first_stage_calcs:closed_generate_series_a_prime_mapper:48 - rolling window is currently at 1 time_step 1\n",
      "2020-12-14 19:42:52.730 | DEBUG    | annotation_driven_dataframe_calcs.caching_tools:__getitem__:12 - searching for key 1_1 in the cache\n",
      "2020-12-14 19:42:52.733 | DEBUG    | annotation_driven_dataframe_calcs.first_stage_calcs:closed_generate_series_a_prime_mapper:48 - rolling window is currently at 1 time_step 2\n",
      "2020-12-14 19:42:52.734 | DEBUG    | annotation_driven_dataframe_calcs.caching_tools:__getitem__:12 - searching for key 1_1 in the cache\n",
      "2020-12-14 19:42:52.736 | DEBUG    | annotation_driven_dataframe_calcs.caching_tools:__getitem__:12 - searching for key 1_2 in the cache\n",
      "2020-12-14 19:42:52.738 | DEBUG    | annotation_driven_dataframe_calcs.first_stage_calcs:closed_generate_series_a_prime_mapper:48 - rolling window is currently at 1 time_step 3\n",
      "2020-12-14 19:42:52.740 | DEBUG    | annotation_driven_dataframe_calcs.caching_tools:__getitem__:12 - searching for key 1_2 in the cache\n",
      "2020-12-14 19:42:52.742 | DEBUG    | annotation_driven_dataframe_calcs.caching_tools:__getitem__:12 - searching for key 1_3 in the cache\n",
      "2020-12-14 19:42:52.744 | DEBUG    | annotation_driven_dataframe_calcs.first_stage_calcs:closed_generate_series_a_prime_mapper:48 - rolling window is currently at 2 time_step 1\n",
      "2020-12-14 19:42:52.746 | DEBUG    | annotation_driven_dataframe_calcs.caching_tools:__getitem__:12 - searching for key 2_1 in the cache\n",
      "2020-12-14 19:42:52.750 | DEBUG    | annotation_driven_dataframe_calcs.first_stage_calcs:closed_generate_series_a_prime_mapper:48 - rolling window is currently at 2 time_step 2\n",
      "2020-12-14 19:42:52.751 | DEBUG    | annotation_driven_dataframe_calcs.caching_tools:__getitem__:12 - searching for key 2_1 in the cache\n",
      "2020-12-14 19:42:52.753 | DEBUG    | annotation_driven_dataframe_calcs.caching_tools:__getitem__:12 - searching for key 2_2 in the cache\n",
      "2020-12-14 19:42:52.755 | DEBUG    | annotation_driven_dataframe_calcs.first_stage_calcs:closed_generate_series_a_prime_mapper:48 - rolling window is currently at 2 time_step 3\n",
      "2020-12-14 19:42:52.756 | DEBUG    | annotation_driven_dataframe_calcs.caching_tools:__getitem__:12 - searching for key 2_2 in the cache\n",
      "2020-12-14 19:42:52.759 | DEBUG    | annotation_driven_dataframe_calcs.caching_tools:__getitem__:12 - searching for key 2_3 in the cache\n",
      "2020-12-14 19:42:52.759 | DEBUG    | annotation_driven_dataframe_calcs.first_stage_calcs:closed_generate_series_a_prime_mapper:48 - rolling window is currently at 3 time_step 1\n",
      "2020-12-14 19:42:52.760 | DEBUG    | annotation_driven_dataframe_calcs.caching_tools:__getitem__:12 - searching for key 3_1 in the cache\n",
      "2020-12-14 19:42:52.762 | DEBUG    | annotation_driven_dataframe_calcs.first_stage_calcs:closed_generate_series_a_prime_mapper:48 - rolling window is currently at 3 time_step 2\n",
      "2020-12-14 19:42:52.763 | DEBUG    | annotation_driven_dataframe_calcs.caching_tools:__getitem__:12 - searching for key 3_1 in the cache\n",
      "2020-12-14 19:42:52.765 | DEBUG    | annotation_driven_dataframe_calcs.caching_tools:__getitem__:12 - searching for key 3_2 in the cache\n",
      "2020-12-14 19:42:52.767 | DEBUG    | annotation_driven_dataframe_calcs.first_stage_calcs:closed_generate_series_a_prime_mapper:48 - rolling window is currently at 3 time_step 3\n",
      "2020-12-14 19:42:52.769 | DEBUG    | annotation_driven_dataframe_calcs.caching_tools:__getitem__:12 - searching for key 3_2 in the cache\n",
      "2020-12-14 19:42:52.771 | DEBUG    | annotation_driven_dataframe_calcs.caching_tools:__getitem__:12 - searching for key 3_3 in the cache\n",
      "2020-12-14 19:42:52.772 | DEBUG    | annotation_driven_dataframe_calcs.first_stage_calcs:closed_generate_series_a_prime_mapper:48 - rolling window is currently at 4 time_step 1\n",
      "2020-12-14 19:42:52.773 | DEBUG    | annotation_driven_dataframe_calcs.caching_tools:__getitem__:12 - searching for key 4_1 in the cache\n",
      "2020-12-14 19:42:52.774 | DEBUG    | annotation_driven_dataframe_calcs.first_stage_calcs:closed_generate_series_a_prime_mapper:48 - rolling window is currently at 4 time_step 2\n",
      "2020-12-14 19:42:52.775 | DEBUG    | annotation_driven_dataframe_calcs.caching_tools:__getitem__:12 - searching for key 4_1 in the cache\n",
      "2020-12-14 19:42:52.776 | DEBUG    | annotation_driven_dataframe_calcs.caching_tools:__getitem__:12 - searching for key 4_2 in the cache\n",
      "2020-12-14 19:42:52.777 | DEBUG    | annotation_driven_dataframe_calcs.first_stage_calcs:closed_generate_series_a_prime_mapper:48 - rolling window is currently at 4 time_step 3\n",
      "2020-12-14 19:42:52.777 | DEBUG    | annotation_driven_dataframe_calcs.caching_tools:__getitem__:12 - searching for key 4_2 in the cache\n",
      "2020-12-14 19:42:52.778 | DEBUG    | annotation_driven_dataframe_calcs.caching_tools:__getitem__:12 - searching for key 4_3 in the cache\n"
     ]
    },
    {
     "output_type": "execute_result",
     "data": {
      "text/plain": [
       "ACCT_NO  TIMESTEP_NO\n",
       "1        1              100.0\n",
       "         2               85.0\n",
       "         3               70.0\n",
       "2        1              100.0\n",
       "         2               79.0\n",
       "         3               58.0\n",
       "3        1              100.0\n",
       "         2               73.0\n",
       "         3               46.0\n",
       "4        1              100.0\n",
       "         2               67.0\n",
       "         3               34.0\n",
       "Name: SERIES_A_PRIME, dtype: float64"
      ]
     },
     "metadata": {},
     "execution_count": 18
    }
   ],
   "source": [
    "from annotation_driven_dataframe_calcs.first_stage_calcs import generate_series_a_prime\n",
    "\n",
    "new_series = generate_series_a_prime(result)\n",
    "new_series"
   ]
  },
  {
   "cell_type": "code",
   "execution_count": null,
   "metadata": {},
   "outputs": [],
   "source": []
  }
 ]
}