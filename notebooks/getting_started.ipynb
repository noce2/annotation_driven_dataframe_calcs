{
 "metadata": {
  "language_info": {
   "codemirror_mode": {
    "name": "ipython",
    "version": 3
   },
   "file_extension": ".py",
   "mimetype": "text/x-python",
   "name": "python",
   "nbconvert_exporter": "python",
   "pygments_lexer": "ipython3",
   "version": "3.8.5-final"
  },
  "orig_nbformat": 2,
  "kernelspec": {
   "name": "python3",
   "display_name": "Python 3.8.5 64-bit ('annotation_driven_dataframe_calcs': conda)",
   "metadata": {
    "interpreter": {
     "hash": "4d4a7c4c2a72dc6b629805efd0975ad20f27a612c5e20f61e65c505b1f2d0c91"
    }
   }
  }
 },
 "nbformat": 4,
 "nbformat_minor": 2,
 "cells": [
  {
   "source": [
    "## Getting Started\n",
    "First generating some test data"
   ],
   "cell_type": "markdown",
   "metadata": {}
  },
  {
   "cell_type": "code",
   "execution_count": 1,
   "metadata": {},
   "outputs": [],
   "source": [
    "%load_ext autoreload\n",
    "%autoreload 2"
   ]
  },
  {
   "cell_type": "code",
   "execution_count": 2,
   "metadata": {},
   "outputs": [
    {
     "output_type": "stream",
     "name": "stderr",
     "text": [
      "2020-12-19 16:10:49.446 | DEBUG    | annotation_driven_dataframe_calcs.registry:<module>:11 - Creating the registry\n",
      "2020-12-19 16:10:49.447 | DEBUG    | annotation_driven_dataframe_calcs.registry:<module>:13 - Registry created\n"
     ]
    }
   ],
   "source": [
    "import pandas as pd\n",
    "from annotation_driven_dataframe_calcs.annotation_driven_dataframe_calcs import expand_for_timesteps\n",
    "from annotation_driven_dataframe_calcs.column_names import TIMESTEP_NO, ACCOUNT_NO, PARAM_C, PARAM_B, PARAM_A, SERIES_A_PRIME\n",
    "from annotation_driven_dataframe_calcs.registry import register\n",
    "from annotation_driven_dataframe_calcs.calculation_helpers import nonrecursive_calculation, recursive_calculation, calculate_over_window, integrated_nonrecursive_calculation\n",
    "\n",
    "fake_data = pd.DataFrame({\n",
    "    ACCOUNT_NO: [1, 2, 3, 4],\n",
    "    PARAM_A: [201908, 201907, 201906, 201905],\n",
    "    PARAM_B: [10, 15, 20, 25],\n",
    "    PARAM_C: [5, 6, 7, 8]\n",
    "})"
   ]
  },
  {
   "cell_type": "code",
   "execution_count": 3,
   "metadata": {},
   "outputs": [
    {
     "output_type": "execute_result",
     "data": {
      "text/plain": [
       "                     COLUMN_A  COLUMN_B  COLUMN_C\n",
       "ACCT_NO TIMESTEP_NO                              \n",
       "1       1              201908        10         5\n",
       "        2              201908        10         5\n",
       "        3              201908        10         5\n",
       "2       1              201907        15         6\n",
       "        2              201907        15         6\n",
       "        3              201907        15         6\n",
       "3       1              201906        20         7\n",
       "        2              201906        20         7\n",
       "        3              201906        20         7\n",
       "4       1              201905        25         8\n",
       "        2              201905        25         8\n",
       "        3              201905        25         8"
      ],
      "text/html": "<div>\n<style scoped>\n    .dataframe tbody tr th:only-of-type {\n        vertical-align: middle;\n    }\n\n    .dataframe tbody tr th {\n        vertical-align: top;\n    }\n\n    .dataframe thead th {\n        text-align: right;\n    }\n</style>\n<table border=\"1\" class=\"dataframe\">\n  <thead>\n    <tr style=\"text-align: right;\">\n      <th></th>\n      <th></th>\n      <th>COLUMN_A</th>\n      <th>COLUMN_B</th>\n      <th>COLUMN_C</th>\n    </tr>\n    <tr>\n      <th>ACCT_NO</th>\n      <th>TIMESTEP_NO</th>\n      <th></th>\n      <th></th>\n      <th></th>\n    </tr>\n  </thead>\n  <tbody>\n    <tr>\n      <th rowspan=\"3\" valign=\"top\">1</th>\n      <th>1</th>\n      <td>201908</td>\n      <td>10</td>\n      <td>5</td>\n    </tr>\n    <tr>\n      <th>2</th>\n      <td>201908</td>\n      <td>10</td>\n      <td>5</td>\n    </tr>\n    <tr>\n      <th>3</th>\n      <td>201908</td>\n      <td>10</td>\n      <td>5</td>\n    </tr>\n    <tr>\n      <th rowspan=\"3\" valign=\"top\">2</th>\n      <th>1</th>\n      <td>201907</td>\n      <td>15</td>\n      <td>6</td>\n    </tr>\n    <tr>\n      <th>2</th>\n      <td>201907</td>\n      <td>15</td>\n      <td>6</td>\n    </tr>\n    <tr>\n      <th>3</th>\n      <td>201907</td>\n      <td>15</td>\n      <td>6</td>\n    </tr>\n    <tr>\n      <th rowspan=\"3\" valign=\"top\">3</th>\n      <th>1</th>\n      <td>201906</td>\n      <td>20</td>\n      <td>7</td>\n    </tr>\n    <tr>\n      <th>2</th>\n      <td>201906</td>\n      <td>20</td>\n      <td>7</td>\n    </tr>\n    <tr>\n      <th>3</th>\n      <td>201906</td>\n      <td>20</td>\n      <td>7</td>\n    </tr>\n    <tr>\n      <th rowspan=\"3\" valign=\"top\">4</th>\n      <th>1</th>\n      <td>201905</td>\n      <td>25</td>\n      <td>8</td>\n    </tr>\n    <tr>\n      <th>2</th>\n      <td>201905</td>\n      <td>25</td>\n      <td>8</td>\n    </tr>\n    <tr>\n      <th>3</th>\n      <td>201905</td>\n      <td>25</td>\n      <td>8</td>\n    </tr>\n  </tbody>\n</table>\n</div>"
     },
     "metadata": {},
     "execution_count": 3
    }
   ],
   "source": [
    "result = expand_for_timesteps(fake_data, 1, 3)\n",
    "result"
   ]
  },
  {
   "source": [
    "Let's register some series to be calculated.\n",
    "\n",
    "First a non-recursive calculation."
   ],
   "cell_type": "markdown",
   "metadata": {}
  },
  {
   "cell_type": "code",
   "execution_count": 4,
   "metadata": {},
   "outputs": [
    {
     "output_type": "stream",
     "name": "stderr",
     "text": [
      "2020-12-19 16:12:54.279 | DEBUG    | annotation_driven_dataframe_calcs.registry:register:32 - Registering series TEST_OUTPUT_C and its dependencies []\n"
     ]
    }
   ],
   "source": [
    "@register(output_series_name='TEST_OUTPUT_C')\n",
    "@calculate_over_window(\n",
    "    series_to_run_window_over=PARAM_A,\n",
    "    window_size=2,\n",
    "    output_series_name='TEST_OUTPUT_C'\n",
    ")\n",
    "@nonrecursive_calculation\n",
    "def new_core_arithmetric_for_series_b_prime(\n",
    "    account_no,\n",
    "    timestep_no,\n",
    "    current_window_series,\n",
    "    entire_input_data_set,\n",
    ") -> float:\n",
    "    return (\n",
    "        - entire_input_data_set.loc[(account_no, timestep_no), PARAM_B]\n",
    "        - entire_input_data_set.loc[(account_no, timestep_no), PARAM_C]\n",
    "    )"
   ]
  },
  {
   "source": [
    "Second recursive calculation"
   ],
   "cell_type": "markdown",
   "metadata": {}
  },
  {
   "cell_type": "code",
   "execution_count": 5,
   "metadata": {},
   "outputs": [
    {
     "output_type": "stream",
     "name": "stderr",
     "text": [
      "2020-12-19 16:13:01.995 | DEBUG    | annotation_driven_dataframe_calcs.registry:register:32 - Registering series SERIES_A_PRIME_FROM_DECS and its dependencies []\n"
     ]
    }
   ],
   "source": [
    "@register(output_series_name=f\"{SERIES_A_PRIME}_FROM_DECS\")\n",
    "@calculate_over_window(\n",
    "    series_to_run_window_over=PARAM_A,\n",
    "    window_size=2,\n",
    "    output_series_name=f\"{SERIES_A_PRIME}_FROM_DECS\"\n",
    ")\n",
    "@recursive_calculation(\n",
    "    number_of_previous_terms_needed=1,\n",
    "    tuple_of_initial_values=(100,)\n",
    ")\n",
    "def series_c_prime(\n",
    "    account_no,\n",
    "    timestep_no,\n",
    "    current_window_series,\n",
    "    tuple_of_previous_calculated_values,\n",
    "    entire_input_data_set,\n",
    ") -> float:\n",
    "    return (\n",
    "        tuple_of_previous_calculated_values[0]\n",
    "        - entire_input_data_set.loc[(account_no, timestep_no), PARAM_B]\n",
    "        - entire_input_data_set.loc[(account_no, timestep_no), PARAM_C]\n",
    "    )"
   ]
  },
  {
   "source": [
    "Let's also try using the integrated decorator that wraps all the functionality of registering and adapting the function's signatre."
   ],
   "cell_type": "markdown",
   "metadata": {}
  },
  {
   "cell_type": "code",
   "execution_count": 6,
   "metadata": {},
   "outputs": [
    {
     "output_type": "stream",
     "name": "stderr",
     "text": [
      "2020-12-19 16:13:07.708 | DEBUG    | annotation_driven_dataframe_calcs.registry:register:32 - Registering series TEST_OUTPUT_D and its dependencies []\n"
     ]
    }
   ],
   "source": [
    "@integrated_nonrecursive_calculation(\n",
    "    output_series_name='TEST_OUTPUT_D',\n",
    "    series_to_run_window_over=PARAM_A,\n",
    "    window_size=2\n",
    ")\n",
    "def series_d_prime(\n",
    "    account_no,\n",
    "    timestep_no,\n",
    "    current_window_series,\n",
    "    entire_input_data_set,\n",
    ") -> float:\n",
    "    return (\n",
    "       50 - entire_input_data_set.loc[(account_no, timestep_no), PARAM_B]\n",
    "        - entire_input_data_set.loc[(account_no, timestep_no), PARAM_C]\n",
    "    )"
   ]
  },
  {
   "cell_type": "code",
   "execution_count": 7,
   "metadata": {},
   "outputs": [
    {
     "output_type": "stream",
     "name": "stderr",
     "text": [
      "2020-12-19 16:13:12.595 | DEBUG    | annotation_driven_dataframe_calcs.annotation_driven_dataframe_calcs:join_registered_series_values:44 - the registered series and handlers are: ['TEST_OUTPUT_D', 'SERIES_A_PRIME_FROM_DECS', 'TEST_OUTPUT_C']\n",
      "2020-12-19 16:13:12.596 | INFO     | annotation_driven_dataframe_calcs.annotation_driven_dataframe_calcs:join_registered_series_values:46 - The task graph of the relationships between series shows:\n",
      "\n",
      "2020-12-19 16:13:12.663 | INFO     | annotation_driven_dataframe_calcs.annotation_driven_dataframe_calcs:join_registered_series_values:51 - The task graph of the relationships has been saved to /home/noce2/development/workspaces/noce2/annotation_driven_dataframe_calcs/notebooks/param_calc_task_graph.png:\n",
      "\n",
      "2020-12-19 16:13:12.663 | DEBUG    | annotation_driven_dataframe_calcs.annotation_driven_dataframe_calcs:__calculate_series_and_merge_with_df:64 - calculating the series TEST_OUTPUT_D\n",
      "2020-12-19 16:13:12.669 | DEBUG    | annotation_driven_dataframe_calcs.calculation_helpers:wrap_nonrecursive_calculation:39 - rolling window is currently at 1 time_step 1\n",
      "2020-12-19 16:13:12.671 | DEBUG    | annotation_driven_dataframe_calcs.calculation_helpers:wrap_nonrecursive_calculation:39 - rolling window is currently at 1 time_step 2\n",
      "2020-12-19 16:13:12.673 | DEBUG    | annotation_driven_dataframe_calcs.calculation_helpers:wrap_nonrecursive_calculation:39 - rolling window is currently at 1 time_step 3\n",
      "2020-12-19 16:13:12.675 | DEBUG    | annotation_driven_dataframe_calcs.calculation_helpers:wrap_nonrecursive_calculation:39 - rolling window is currently at 2 time_step 1\n",
      "2020-12-19 16:13:12.678 | DEBUG    | annotation_driven_dataframe_calcs.calculation_helpers:wrap_nonrecursive_calculation:39 - rolling window is currently at 2 time_step 2\n",
      "2020-12-19 16:13:12.681 | DEBUG    | annotation_driven_dataframe_calcs.calculation_helpers:wrap_nonrecursive_calculation:39 - rolling window is currently at 2 time_step 3\n",
      "2020-12-19 16:13:12.683 | DEBUG    | annotation_driven_dataframe_calcs.calculation_helpers:wrap_nonrecursive_calculation:39 - rolling window is currently at 3 time_step 1\n",
      "2020-12-19 16:13:12.685 | DEBUG    | annotation_driven_dataframe_calcs.calculation_helpers:wrap_nonrecursive_calculation:39 - rolling window is currently at 3 time_step 2\n",
      "2020-12-19 16:13:12.688 | DEBUG    | annotation_driven_dataframe_calcs.calculation_helpers:wrap_nonrecursive_calculation:39 - rolling window is currently at 3 time_step 3\n",
      "2020-12-19 16:13:12.691 | DEBUG    | annotation_driven_dataframe_calcs.calculation_helpers:wrap_nonrecursive_calculation:39 - rolling window is currently at 4 time_step 1\n",
      "2020-12-19 16:13:12.692 | DEBUG    | annotation_driven_dataframe_calcs.calculation_helpers:wrap_nonrecursive_calculation:39 - rolling window is currently at 4 time_step 2\n",
      "2020-12-19 16:13:12.694 | DEBUG    | annotation_driven_dataframe_calcs.calculation_helpers:wrap_nonrecursive_calculation:39 - rolling window is currently at 4 time_step 3\n",
      "2020-12-19 16:13:12.698 | DEBUG    | annotation_driven_dataframe_calcs.annotation_driven_dataframe_calcs:__calculate_series_and_merge_with_df:66 - series TEST_OUTPUT_D calcuated as:\n",
      " ACCT_NO  TIMESTEP_NO\n",
      "1        1              35.0\n",
      "         2              35.0\n",
      "         3              35.0\n",
      "2        1              29.0\n",
      "         2              29.0\n",
      "         3              29.0\n",
      "3        1              23.0\n",
      "         2              23.0\n",
      "         3              23.0\n",
      "4        1              17.0\n",
      "         2              17.0\n",
      "         3              17.0\n",
      "Name: TEST_OUTPUT_D, dtype: float64\n",
      "2020-12-19 16:13:12.703 | DEBUG    | annotation_driven_dataframe_calcs.annotation_driven_dataframe_calcs:__calculate_series_and_merge_with_df:64 - calculating the series SERIES_A_PRIME_FROM_DECS\n",
      "2020-12-19 16:13:12.709 | DEBUG    | annotation_driven_dataframe_calcs.calculation_helpers:wrap_recursive_calculation:67 - rolling window is currently at 1 time_step 1\n",
      "2020-12-19 16:13:12.710 | DEBUG    | annotation_driven_dataframe_calcs.caching_tools:__getitem__:12 - searching for key 1_1 in the cache\n",
      "2020-12-19 16:13:12.711 | DEBUG    | annotation_driven_dataframe_calcs.calculation_helpers:wrap_recursive_calculation:67 - rolling window is currently at 1 time_step 2\n",
      "2020-12-19 16:13:12.712 | DEBUG    | annotation_driven_dataframe_calcs.caching_tools:__getitem__:12 - searching for key 1_1 in the cache\n",
      "2020-12-19 16:13:12.715 | DEBUG    | annotation_driven_dataframe_calcs.caching_tools:__getitem__:12 - searching for key 1_2 in the cache\n",
      "2020-12-19 16:13:12.716 | DEBUG    | annotation_driven_dataframe_calcs.calculation_helpers:wrap_recursive_calculation:67 - rolling window is currently at 1 time_step 3\n",
      "2020-12-19 16:13:12.718 | DEBUG    | annotation_driven_dataframe_calcs.caching_tools:__getitem__:12 - searching for key 1_2 in the cache\n",
      "2020-12-19 16:13:12.720 | DEBUG    | annotation_driven_dataframe_calcs.caching_tools:__getitem__:12 - searching for key 1_3 in the cache\n",
      "2020-12-19 16:13:12.722 | DEBUG    | annotation_driven_dataframe_calcs.calculation_helpers:wrap_recursive_calculation:67 - rolling window is currently at 2 time_step 1\n",
      "2020-12-19 16:13:12.723 | DEBUG    | annotation_driven_dataframe_calcs.caching_tools:__getitem__:12 - searching for key 2_1 in the cache\n",
      "2020-12-19 16:13:12.724 | DEBUG    | annotation_driven_dataframe_calcs.calculation_helpers:wrap_recursive_calculation:67 - rolling window is currently at 2 time_step 2\n",
      "2020-12-19 16:13:12.726 | DEBUG    | annotation_driven_dataframe_calcs.caching_tools:__getitem__:12 - searching for key 2_1 in the cache\n",
      "2020-12-19 16:13:12.728 | DEBUG    | annotation_driven_dataframe_calcs.caching_tools:__getitem__:12 - searching for key 2_2 in the cache\n",
      "2020-12-19 16:13:12.730 | DEBUG    | annotation_driven_dataframe_calcs.calculation_helpers:wrap_recursive_calculation:67 - rolling window is currently at 2 time_step 3\n",
      "2020-12-19 16:13:12.732 | DEBUG    | annotation_driven_dataframe_calcs.caching_tools:__getitem__:12 - searching for key 2_2 in the cache\n",
      "2020-12-19 16:13:12.736 | DEBUG    | annotation_driven_dataframe_calcs.caching_tools:__getitem__:12 - searching for key 2_3 in the cache\n",
      "2020-12-19 16:13:12.738 | DEBUG    | annotation_driven_dataframe_calcs.calculation_helpers:wrap_recursive_calculation:67 - rolling window is currently at 3 time_step 1\n",
      "2020-12-19 16:13:12.740 | DEBUG    | annotation_driven_dataframe_calcs.caching_tools:__getitem__:12 - searching for key 3_1 in the cache\n",
      "2020-12-19 16:13:12.742 | DEBUG    | annotation_driven_dataframe_calcs.calculation_helpers:wrap_recursive_calculation:67 - rolling window is currently at 3 time_step 2\n",
      "2020-12-19 16:13:12.744 | DEBUG    | annotation_driven_dataframe_calcs.caching_tools:__getitem__:12 - searching for key 3_1 in the cache\n",
      "2020-12-19 16:13:12.746 | DEBUG    | annotation_driven_dataframe_calcs.caching_tools:__getitem__:12 - searching for key 3_2 in the cache\n",
      "2020-12-19 16:13:12.748 | DEBUG    | annotation_driven_dataframe_calcs.calculation_helpers:wrap_recursive_calculation:67 - rolling window is currently at 3 time_step 3\n",
      "2020-12-19 16:13:12.750 | DEBUG    | annotation_driven_dataframe_calcs.caching_tools:__getitem__:12 - searching for key 3_2 in the cache\n",
      "2020-12-19 16:13:12.753 | DEBUG    | annotation_driven_dataframe_calcs.caching_tools:__getitem__:12 - searching for key 3_3 in the cache\n",
      "2020-12-19 16:13:12.755 | DEBUG    | annotation_driven_dataframe_calcs.calculation_helpers:wrap_recursive_calculation:67 - rolling window is currently at 4 time_step 1\n",
      "2020-12-19 16:13:12.756 | DEBUG    | annotation_driven_dataframe_calcs.caching_tools:__getitem__:12 - searching for key 4_1 in the cache\n",
      "2020-12-19 16:13:12.758 | DEBUG    | annotation_driven_dataframe_calcs.calculation_helpers:wrap_recursive_calculation:67 - rolling window is currently at 4 time_step 2\n",
      "2020-12-19 16:13:12.760 | DEBUG    | annotation_driven_dataframe_calcs.caching_tools:__getitem__:12 - searching for key 4_1 in the cache\n",
      "2020-12-19 16:13:12.763 | DEBUG    | annotation_driven_dataframe_calcs.caching_tools:__getitem__:12 - searching for key 4_2 in the cache\n",
      "2020-12-19 16:13:12.765 | DEBUG    | annotation_driven_dataframe_calcs.calculation_helpers:wrap_recursive_calculation:67 - rolling window is currently at 4 time_step 3\n",
      "2020-12-19 16:13:12.766 | DEBUG    | annotation_driven_dataframe_calcs.caching_tools:__getitem__:12 - searching for key 4_2 in the cache\n",
      "2020-12-19 16:13:12.768 | DEBUG    | annotation_driven_dataframe_calcs.caching_tools:__getitem__:12 - searching for key 4_3 in the cache\n",
      "2020-12-19 16:13:12.770 | DEBUG    | annotation_driven_dataframe_calcs.annotation_driven_dataframe_calcs:__calculate_series_and_merge_with_df:66 - series SERIES_A_PRIME_FROM_DECS calcuated as:\n",
      " ACCT_NO  TIMESTEP_NO\n",
      "1        1              100.0\n",
      "         2               85.0\n",
      "         3               70.0\n",
      "2        1              100.0\n",
      "         2               79.0\n",
      "         3               58.0\n",
      "3        1              100.0\n",
      "         2               73.0\n",
      "         3               46.0\n",
      "4        1              100.0\n",
      "         2               67.0\n",
      "         3               34.0\n",
      "Name: SERIES_A_PRIME_FROM_DECS, dtype: float64\n",
      "2020-12-19 16:13:12.775 | DEBUG    | annotation_driven_dataframe_calcs.annotation_driven_dataframe_calcs:__calculate_series_and_merge_with_df:64 - calculating the series TEST_OUTPUT_C\n",
      "2020-12-19 16:13:12.780 | DEBUG    | annotation_driven_dataframe_calcs.calculation_helpers:wrap_nonrecursive_calculation:39 - rolling window is currently at 1 time_step 1\n",
      "2020-12-19 16:13:12.783 | DEBUG    | annotation_driven_dataframe_calcs.calculation_helpers:wrap_nonrecursive_calculation:39 - rolling window is currently at 1 time_step 2\n",
      "2020-12-19 16:13:12.785 | DEBUG    | annotation_driven_dataframe_calcs.calculation_helpers:wrap_nonrecursive_calculation:39 - rolling window is currently at 1 time_step 3\n",
      "2020-12-19 16:13:12.788 | DEBUG    | annotation_driven_dataframe_calcs.calculation_helpers:wrap_nonrecursive_calculation:39 - rolling window is currently at 2 time_step 1\n",
      "2020-12-19 16:13:12.791 | DEBUG    | annotation_driven_dataframe_calcs.calculation_helpers:wrap_nonrecursive_calculation:39 - rolling window is currently at 2 time_step 2\n",
      "2020-12-19 16:13:12.794 | DEBUG    | annotation_driven_dataframe_calcs.calculation_helpers:wrap_nonrecursive_calculation:39 - rolling window is currently at 2 time_step 3\n",
      "2020-12-19 16:13:12.796 | DEBUG    | annotation_driven_dataframe_calcs.calculation_helpers:wrap_nonrecursive_calculation:39 - rolling window is currently at 3 time_step 1\n",
      "2020-12-19 16:13:12.799 | DEBUG    | annotation_driven_dataframe_calcs.calculation_helpers:wrap_nonrecursive_calculation:39 - rolling window is currently at 3 time_step 2\n",
      "2020-12-19 16:13:12.801 | DEBUG    | annotation_driven_dataframe_calcs.calculation_helpers:wrap_nonrecursive_calculation:39 - rolling window is currently at 3 time_step 3\n",
      "2020-12-19 16:13:12.804 | DEBUG    | annotation_driven_dataframe_calcs.calculation_helpers:wrap_nonrecursive_calculation:39 - rolling window is currently at 4 time_step 1\n",
      "2020-12-19 16:13:12.806 | DEBUG    | annotation_driven_dataframe_calcs.calculation_helpers:wrap_nonrecursive_calculation:39 - rolling window is currently at 4 time_step 2\n",
      "2020-12-19 16:13:12.808 | DEBUG    | annotation_driven_dataframe_calcs.calculation_helpers:wrap_nonrecursive_calculation:39 - rolling window is currently at 4 time_step 3\n",
      "2020-12-19 16:13:12.811 | DEBUG    | annotation_driven_dataframe_calcs.annotation_driven_dataframe_calcs:__calculate_series_and_merge_with_df:66 - series TEST_OUTPUT_C calcuated as:\n",
      " ACCT_NO  TIMESTEP_NO\n",
      "1        1             -15.0\n",
      "         2             -15.0\n",
      "         3             -15.0\n",
      "2        1             -21.0\n",
      "         2             -21.0\n",
      "         3             -21.0\n",
      "3        1             -27.0\n",
      "         2             -27.0\n",
      "         3             -27.0\n",
      "4        1             -33.0\n",
      "         2             -33.0\n",
      "         3             -33.0\n",
      "Name: TEST_OUTPUT_C, dtype: float64\n"
     ]
    },
    {
     "output_type": "execute_result",
     "data": {
      "text/plain": [
       "                     COLUMN_A  COLUMN_B  COLUMN_C  TEST_OUTPUT_D  \\\n",
       "ACCT_NO TIMESTEP_NO                                                \n",
       "1       1              201908        10         5           35.0   \n",
       "        2              201908        10         5           35.0   \n",
       "        3              201908        10         5           35.0   \n",
       "2       1              201907        15         6           29.0   \n",
       "        2              201907        15         6           29.0   \n",
       "        3              201907        15         6           29.0   \n",
       "3       1              201906        20         7           23.0   \n",
       "        2              201906        20         7           23.0   \n",
       "        3              201906        20         7           23.0   \n",
       "4       1              201905        25         8           17.0   \n",
       "        2              201905        25         8           17.0   \n",
       "        3              201905        25         8           17.0   \n",
       "\n",
       "                     SERIES_A_PRIME_FROM_DECS  TEST_OUTPUT_C  \n",
       "ACCT_NO TIMESTEP_NO                                           \n",
       "1       1                               100.0          -15.0  \n",
       "        2                                85.0          -15.0  \n",
       "        3                                70.0          -15.0  \n",
       "2       1                               100.0          -21.0  \n",
       "        2                                79.0          -21.0  \n",
       "        3                                58.0          -21.0  \n",
       "3       1                               100.0          -27.0  \n",
       "        2                                73.0          -27.0  \n",
       "        3                                46.0          -27.0  \n",
       "4       1                               100.0          -33.0  \n",
       "        2                                67.0          -33.0  \n",
       "        3                                34.0          -33.0  "
      ],
      "text/html": "<div>\n<style scoped>\n    .dataframe tbody tr th:only-of-type {\n        vertical-align: middle;\n    }\n\n    .dataframe tbody tr th {\n        vertical-align: top;\n    }\n\n    .dataframe thead th {\n        text-align: right;\n    }\n</style>\n<table border=\"1\" class=\"dataframe\">\n  <thead>\n    <tr style=\"text-align: right;\">\n      <th></th>\n      <th></th>\n      <th>COLUMN_A</th>\n      <th>COLUMN_B</th>\n      <th>COLUMN_C</th>\n      <th>TEST_OUTPUT_D</th>\n      <th>SERIES_A_PRIME_FROM_DECS</th>\n      <th>TEST_OUTPUT_C</th>\n    </tr>\n    <tr>\n      <th>ACCT_NO</th>\n      <th>TIMESTEP_NO</th>\n      <th></th>\n      <th></th>\n      <th></th>\n      <th></th>\n      <th></th>\n      <th></th>\n    </tr>\n  </thead>\n  <tbody>\n    <tr>\n      <th rowspan=\"3\" valign=\"top\">1</th>\n      <th>1</th>\n      <td>201908</td>\n      <td>10</td>\n      <td>5</td>\n      <td>35.0</td>\n      <td>100.0</td>\n      <td>-15.0</td>\n    </tr>\n    <tr>\n      <th>2</th>\n      <td>201908</td>\n      <td>10</td>\n      <td>5</td>\n      <td>35.0</td>\n      <td>85.0</td>\n      <td>-15.0</td>\n    </tr>\n    <tr>\n      <th>3</th>\n      <td>201908</td>\n      <td>10</td>\n      <td>5</td>\n      <td>35.0</td>\n      <td>70.0</td>\n      <td>-15.0</td>\n    </tr>\n    <tr>\n      <th rowspan=\"3\" valign=\"top\">2</th>\n      <th>1</th>\n      <td>201907</td>\n      <td>15</td>\n      <td>6</td>\n      <td>29.0</td>\n      <td>100.0</td>\n      <td>-21.0</td>\n    </tr>\n    <tr>\n      <th>2</th>\n      <td>201907</td>\n      <td>15</td>\n      <td>6</td>\n      <td>29.0</td>\n      <td>79.0</td>\n      <td>-21.0</td>\n    </tr>\n    <tr>\n      <th>3</th>\n      <td>201907</td>\n      <td>15</td>\n      <td>6</td>\n      <td>29.0</td>\n      <td>58.0</td>\n      <td>-21.0</td>\n    </tr>\n    <tr>\n      <th rowspan=\"3\" valign=\"top\">3</th>\n      <th>1</th>\n      <td>201906</td>\n      <td>20</td>\n      <td>7</td>\n      <td>23.0</td>\n      <td>100.0</td>\n      <td>-27.0</td>\n    </tr>\n    <tr>\n      <th>2</th>\n      <td>201906</td>\n      <td>20</td>\n      <td>7</td>\n      <td>23.0</td>\n      <td>73.0</td>\n      <td>-27.0</td>\n    </tr>\n    <tr>\n      <th>3</th>\n      <td>201906</td>\n      <td>20</td>\n      <td>7</td>\n      <td>23.0</td>\n      <td>46.0</td>\n      <td>-27.0</td>\n    </tr>\n    <tr>\n      <th rowspan=\"3\" valign=\"top\">4</th>\n      <th>1</th>\n      <td>201905</td>\n      <td>25</td>\n      <td>8</td>\n      <td>17.0</td>\n      <td>100.0</td>\n      <td>-33.0</td>\n    </tr>\n    <tr>\n      <th>2</th>\n      <td>201905</td>\n      <td>25</td>\n      <td>8</td>\n      <td>17.0</td>\n      <td>67.0</td>\n      <td>-33.0</td>\n    </tr>\n    <tr>\n      <th>3</th>\n      <td>201905</td>\n      <td>25</td>\n      <td>8</td>\n      <td>17.0</td>\n      <td>34.0</td>\n      <td>-33.0</td>\n    </tr>\n  </tbody>\n</table>\n</div>"
     },
     "metadata": {},
     "execution_count": 7
    },
    {
     "output_type": "display_data",
     "data": {
      "text/plain": "<Figure size 432x288 with 1 Axes>",
      "image/svg+xml": "<?xml version=\"1.0\" encoding=\"utf-8\" standalone=\"no\"?>\n<!DOCTYPE svg PUBLIC \"-//W3C//DTD SVG 1.1//EN\"\n  \"http://www.w3.org/Graphics/SVG/1.1/DTD/svg11.dtd\">\n<!-- Created with matplotlib (https://matplotlib.org/) -->\n<svg height=\"302.4pt\" version=\"1.1\" viewBox=\"0 0 446.4 302.4\" width=\"446.4pt\" xmlns=\"http://www.w3.org/2000/svg\" xmlns:xlink=\"http://www.w3.org/1999/xlink\">\n <metadata>\n  <rdf:RDF xmlns:cc=\"http://creativecommons.org/ns#\" xmlns:dc=\"http://purl.org/dc/elements/1.1/\" xmlns:rdf=\"http://www.w3.org/1999/02/22-rdf-syntax-ns#\">\n   <cc:Work>\n    <dc:type rdf:resource=\"http://purl.org/dc/dcmitype/StillImage\"/>\n    <dc:date>2020-12-19T16:13:12.845379</dc:date>\n    <dc:format>image/svg+xml</dc:format>\n    <dc:creator>\n     <cc:Agent>\n      <dc:title>Matplotlib v3.3.3, https://matplotlib.org/</dc:title>\n     </cc:Agent>\n    </dc:creator>\n   </cc:Work>\n  </rdf:RDF>\n </metadata>\n <defs>\n  <style type=\"text/css\">*{stroke-linecap:butt;stroke-linejoin:round;}</style>\n </defs>\n <g id=\"figure_1\">\n  <g id=\"patch_1\">\n   <path d=\"M 0 302.4 \nL 446.4 302.4 \nL 446.4 0 \nL 0 0 \nz\n\" style=\"fill:#ffffff;\"/>\n  </g>\n  <g id=\"axes_1\">\n   <g id=\"PathCollection_1\">\n    <defs>\n     <path d=\"M 0 8.660254 \nC 2.296726 8.660254 4.499694 7.747755 6.123724 6.123724 \nC 7.747755 4.499694 8.660254 2.296726 8.660254 0 \nC 8.660254 -2.296726 7.747755 -4.499694 6.123724 -6.123724 \nC 4.499694 -7.747755 2.296726 -8.660254 0 -8.660254 \nC -2.296726 -8.660254 -4.499694 -7.747755 -6.123724 -6.123724 \nC -7.747755 -4.499694 -8.660254 -2.296726 -8.660254 0 \nC -8.660254 2.296726 -7.747755 4.499694 -6.123724 6.123724 \nC -4.499694 7.747755 -2.296726 8.660254 0 8.660254 \nz\n\" id=\"m09cab7f820\" style=\"stroke:#1f78b4;\"/>\n    </defs>\n    <g clip-path=\"url(#pdcfd128cf5)\">\n     <use style=\"fill:#1f78b4;stroke:#1f78b4;\" x=\"236.118759\" xlink:href=\"#m09cab7f820\" y=\"20.290909\"/>\n     <use style=\"fill:#1f78b4;stroke:#1f78b4;\" x=\"26.836364\" xlink:href=\"#m09cab7f820\" y=\"282.109091\"/>\n     <use style=\"fill:#1f78b4;stroke:#1f78b4;\" x=\"419.563636\" xlink:href=\"#m09cab7f820\" y=\"266.649609\"/>\n    </g>\n   </g>\n   <g id=\"text_1\">\n    <g clip-path=\"url(#pdcfd128cf5)\">\n     <!-- TEST_OUTPUT_C -->\n     <g transform=\"translate(181.680009 23.329347)scale(0.12 -0.12)\">\n      <defs>\n       <path d=\"M 0.484375 72.90625 \nL 67.671875 72.90625 \nL 67.671875 58.6875 \nL 43.5 58.6875 \nL 43.5 0 \nL 24.703125 0 \nL 24.703125 58.6875 \nL 0.484375 58.6875 \nz\n\" id=\"DejaVuSans-Bold-84\"/>\n       <path d=\"M 9.1875 72.90625 \nL 59.90625 72.90625 \nL 59.90625 58.6875 \nL 27.984375 58.6875 \nL 27.984375 45.125 \nL 58.015625 45.125 \nL 58.015625 30.90625 \nL 27.984375 30.90625 \nL 27.984375 14.203125 \nL 60.984375 14.203125 \nL 60.984375 0 \nL 9.1875 0 \nz\n\" id=\"DejaVuSans-Bold-69\"/>\n       <path d=\"M 59.90625 70.609375 \nL 59.90625 55.171875 \nQ 53.90625 57.859375 48.1875 59.21875 \nQ 42.484375 60.59375 37.40625 60.59375 \nQ 30.671875 60.59375 27.4375 58.734375 \nQ 24.21875 56.890625 24.21875 52.984375 \nQ 24.21875 50.046875 26.390625 48.40625 \nQ 28.5625 46.78125 34.28125 45.609375 \nL 42.28125 44 \nQ 54.4375 41.546875 59.5625 36.5625 \nQ 64.703125 31.59375 64.703125 22.40625 \nQ 64.703125 10.359375 57.546875 4.46875 \nQ 50.390625 -1.421875 35.6875 -1.421875 \nQ 28.765625 -1.421875 21.78125 -0.09375 \nQ 14.796875 1.21875 7.8125 3.8125 \nL 7.8125 19.671875 \nQ 14.796875 15.96875 21.3125 14.078125 \nQ 27.828125 12.203125 33.890625 12.203125 \nQ 40.046875 12.203125 43.3125 14.25 \nQ 46.578125 16.3125 46.578125 20.125 \nQ 46.578125 23.53125 44.359375 25.390625 \nQ 42.140625 27.25 35.5 28.71875 \nL 28.21875 30.328125 \nQ 17.28125 32.671875 12.21875 37.796875 \nQ 7.171875 42.921875 7.171875 51.609375 \nQ 7.171875 62.5 14.203125 68.359375 \nQ 21.234375 74.21875 34.421875 74.21875 \nQ 40.4375 74.21875 46.78125 73.3125 \nQ 53.125 72.40625 59.90625 70.609375 \nz\n\" id=\"DejaVuSans-Bold-83\"/>\n       <path d=\"M 50 -14.3125 \nL 50 -23.578125 \nL 0 -23.578125 \nL 0 -14.3125 \nz\n\" id=\"DejaVuSans-Bold-95\"/>\n       <path d=\"M 42.484375 60.59375 \nQ 33.890625 60.59375 29.15625 54.25 \nQ 24.421875 47.90625 24.421875 36.375 \nQ 24.421875 24.90625 29.15625 18.546875 \nQ 33.890625 12.203125 42.484375 12.203125 \nQ 51.125 12.203125 55.859375 18.546875 \nQ 60.59375 24.90625 60.59375 36.375 \nQ 60.59375 47.90625 55.859375 54.25 \nQ 51.125 60.59375 42.484375 60.59375 \nz\nM 42.484375 74.21875 \nQ 60.0625 74.21875 70.015625 64.15625 \nQ 79.984375 54.109375 79.984375 36.375 \nQ 79.984375 18.703125 70.015625 8.640625 \nQ 60.0625 -1.421875 42.484375 -1.421875 \nQ 24.953125 -1.421875 14.96875 8.640625 \nQ 4.984375 18.703125 4.984375 36.375 \nQ 4.984375 54.109375 14.96875 64.15625 \nQ 24.953125 74.21875 42.484375 74.21875 \nz\n\" id=\"DejaVuSans-Bold-79\"/>\n       <path d=\"M 9.1875 72.90625 \nL 27.984375 72.90625 \nL 27.984375 29.203125 \nQ 27.984375 20.171875 30.9375 16.28125 \nQ 33.890625 12.40625 40.578125 12.40625 \nQ 47.3125 12.40625 50.265625 16.28125 \nQ 53.21875 20.171875 53.21875 29.203125 \nL 53.21875 72.90625 \nL 72.015625 72.90625 \nL 72.015625 29.203125 \nQ 72.015625 13.71875 64.25 6.140625 \nQ 56.5 -1.421875 40.578125 -1.421875 \nQ 24.703125 -1.421875 16.9375 6.140625 \nQ 9.1875 13.71875 9.1875 29.203125 \nz\n\" id=\"DejaVuSans-Bold-85\"/>\n       <path d=\"M 9.1875 72.90625 \nL 40.375 72.90625 \nQ 54.296875 72.90625 61.734375 66.71875 \nQ 69.1875 60.546875 69.1875 49.125 \nQ 69.1875 37.640625 61.734375 31.46875 \nQ 54.296875 25.296875 40.375 25.296875 \nL 27.984375 25.296875 \nL 27.984375 0 \nL 9.1875 0 \nz\nM 27.984375 59.28125 \nL 27.984375 38.921875 \nL 38.375 38.921875 \nQ 43.84375 38.921875 46.828125 41.578125 \nQ 49.8125 44.234375 49.8125 49.125 \nQ 49.8125 54 46.828125 56.640625 \nQ 43.84375 59.28125 38.375 59.28125 \nz\n\" id=\"DejaVuSans-Bold-80\"/>\n       <path d=\"M 67 4 \nQ 61.8125 1.3125 56.203125 -0.046875 \nQ 50.59375 -1.421875 44.484375 -1.421875 \nQ 26.265625 -1.421875 15.625 8.765625 \nQ 4.984375 18.953125 4.984375 36.375 \nQ 4.984375 53.859375 15.625 64.03125 \nQ 26.265625 74.21875 44.484375 74.21875 \nQ 50.59375 74.21875 56.203125 72.84375 \nQ 61.8125 71.484375 67 68.796875 \nL 67 53.71875 \nQ 61.765625 57.28125 56.6875 58.9375 \nQ 51.609375 60.59375 46 60.59375 \nQ 35.9375 60.59375 30.171875 54.140625 \nQ 24.421875 47.703125 24.421875 36.375 \nQ 24.421875 25.09375 30.171875 18.640625 \nQ 35.9375 12.203125 46 12.203125 \nQ 51.609375 12.203125 56.6875 13.859375 \nQ 61.765625 15.53125 67 19.09375 \nz\n\" id=\"DejaVuSans-Bold-67\"/>\n      </defs>\n      <use xlink:href=\"#DejaVuSans-Bold-84\"/>\n      <use x=\"68.212891\" xlink:href=\"#DejaVuSans-Bold-69\"/>\n      <use x=\"136.523438\" xlink:href=\"#DejaVuSans-Bold-83\"/>\n      <use x=\"208.544922\" xlink:href=\"#DejaVuSans-Bold-84\"/>\n      <use x=\"276.757812\" xlink:href=\"#DejaVuSans-Bold-95\"/>\n      <use x=\"326.757812\" xlink:href=\"#DejaVuSans-Bold-79\"/>\n      <use x=\"411.767578\" xlink:href=\"#DejaVuSans-Bold-85\"/>\n      <use x=\"492.96875\" xlink:href=\"#DejaVuSans-Bold-84\"/>\n      <use x=\"561.181641\" xlink:href=\"#DejaVuSans-Bold-80\"/>\n      <use x=\"634.472656\" xlink:href=\"#DejaVuSans-Bold-85\"/>\n      <use x=\"715.673828\" xlink:href=\"#DejaVuSans-Bold-84\"/>\n      <use x=\"783.886719\" xlink:href=\"#DejaVuSans-Bold-95\"/>\n      <use x=\"833.886719\" xlink:href=\"#DejaVuSans-Bold-67\"/>\n     </g>\n    </g>\n   </g>\n   <g id=\"text_2\">\n    <g clip-path=\"url(#pdcfd128cf5)\">\n     <!-- SERIES_A_PRIME_FROM_DECS -->\n     <g transform=\"translate(-72.525511 285.147528)scale(0.12 -0.12)\">\n      <defs>\n       <path d=\"M 35.890625 40.578125 \nQ 41.796875 40.578125 44.359375 42.765625 \nQ 46.921875 44.96875 46.921875 50 \nQ 46.921875 54.984375 44.359375 57.125 \nQ 41.796875 59.28125 35.890625 59.28125 \nL 27.984375 59.28125 \nL 27.984375 40.578125 \nz\nM 27.984375 27.59375 \nL 27.984375 0 \nL 9.1875 0 \nL 9.1875 72.90625 \nL 37.890625 72.90625 \nQ 52.296875 72.90625 59 68.0625 \nQ 65.71875 63.234375 65.71875 52.78125 \nQ 65.71875 45.5625 62.21875 40.921875 \nQ 58.734375 36.28125 51.703125 34.078125 \nQ 55.5625 33.203125 58.609375 30.09375 \nQ 61.671875 27 64.796875 20.703125 \nL 75 0 \nL 54.984375 0 \nL 46.09375 18.109375 \nQ 43.40625 23.578125 40.640625 25.578125 \nQ 37.890625 27.59375 33.296875 27.59375 \nz\n\" id=\"DejaVuSans-Bold-82\"/>\n       <path d=\"M 9.1875 72.90625 \nL 27.984375 72.90625 \nL 27.984375 0 \nL 9.1875 0 \nz\n\" id=\"DejaVuSans-Bold-73\"/>\n       <path d=\"M 53.421875 13.28125 \nL 24.03125 13.28125 \nL 19.390625 0 \nL 0.484375 0 \nL 27.484375 72.90625 \nL 49.90625 72.90625 \nL 76.90625 0 \nL 58.015625 0 \nz\nM 28.71875 26.8125 \nL 48.6875 26.8125 \nL 38.71875 55.8125 \nz\n\" id=\"DejaVuSans-Bold-65\"/>\n       <path d=\"M 9.1875 72.90625 \nL 33.109375 72.90625 \nL 49.703125 33.890625 \nL 66.40625 72.90625 \nL 90.28125 72.90625 \nL 90.28125 0 \nL 72.515625 0 \nL 72.515625 53.328125 \nL 55.71875 14.015625 \nL 43.796875 14.015625 \nL 27 53.328125 \nL 27 0 \nL 9.1875 0 \nz\n\" id=\"DejaVuSans-Bold-77\"/>\n       <path d=\"M 9.1875 72.90625 \nL 59.90625 72.90625 \nL 59.90625 58.6875 \nL 27.984375 58.6875 \nL 27.984375 45.125 \nL 58.015625 45.125 \nL 58.015625 30.90625 \nL 27.984375 30.90625 \nL 27.984375 0 \nL 9.1875 0 \nz\n\" id=\"DejaVuSans-Bold-70\"/>\n       <path d=\"M 27.984375 58.6875 \nL 27.984375 14.203125 \nL 34.71875 14.203125 \nQ 46.234375 14.203125 52.3125 19.921875 \nQ 58.40625 25.640625 58.40625 36.53125 \nQ 58.40625 47.359375 52.34375 53.015625 \nQ 46.296875 58.6875 34.71875 58.6875 \nz\nM 9.1875 72.90625 \nL 29 72.90625 \nQ 45.609375 72.90625 53.734375 70.53125 \nQ 61.859375 68.171875 67.671875 62.5 \nQ 72.796875 57.5625 75.28125 51.109375 \nQ 77.78125 44.671875 77.78125 36.53125 \nQ 77.78125 28.265625 75.28125 21.796875 \nQ 72.796875 15.328125 67.671875 10.40625 \nQ 61.8125 4.734375 53.609375 2.359375 \nQ 45.40625 0 29 0 \nL 9.1875 0 \nz\n\" id=\"DejaVuSans-Bold-68\"/>\n      </defs>\n      <use xlink:href=\"#DejaVuSans-Bold-83\"/>\n      <use x=\"72.021484\" xlink:href=\"#DejaVuSans-Bold-69\"/>\n      <use x=\"140.332031\" xlink:href=\"#DejaVuSans-Bold-82\"/>\n      <use x=\"217.333984\" xlink:href=\"#DejaVuSans-Bold-73\"/>\n      <use x=\"254.541016\" xlink:href=\"#DejaVuSans-Bold-69\"/>\n      <use x=\"322.851562\" xlink:href=\"#DejaVuSans-Bold-83\"/>\n      <use x=\"394.873047\" xlink:href=\"#DejaVuSans-Bold-95\"/>\n      <use x=\"444.873047\" xlink:href=\"#DejaVuSans-Bold-65\"/>\n      <use x=\"522.265625\" xlink:href=\"#DejaVuSans-Bold-95\"/>\n      <use x=\"572.265625\" xlink:href=\"#DejaVuSans-Bold-80\"/>\n      <use x=\"645.556641\" xlink:href=\"#DejaVuSans-Bold-82\"/>\n      <use x=\"722.558594\" xlink:href=\"#DejaVuSans-Bold-73\"/>\n      <use x=\"759.765625\" xlink:href=\"#DejaVuSans-Bold-77\"/>\n      <use x=\"859.277344\" xlink:href=\"#DejaVuSans-Bold-69\"/>\n      <use x=\"927.587891\" xlink:href=\"#DejaVuSans-Bold-95\"/>\n      <use x=\"977.587891\" xlink:href=\"#DejaVuSans-Bold-70\"/>\n      <use x=\"1045.898438\" xlink:href=\"#DejaVuSans-Bold-82\"/>\n      <use x=\"1122.900391\" xlink:href=\"#DejaVuSans-Bold-79\"/>\n      <use x=\"1207.910156\" xlink:href=\"#DejaVuSans-Bold-77\"/>\n      <use x=\"1307.421875\" xlink:href=\"#DejaVuSans-Bold-95\"/>\n      <use x=\"1357.421875\" xlink:href=\"#DejaVuSans-Bold-68\"/>\n      <use x=\"1440.429688\" xlink:href=\"#DejaVuSans-Bold-69\"/>\n      <use x=\"1508.740234\" xlink:href=\"#DejaVuSans-Bold-67\"/>\n      <use x=\"1584.003906\" xlink:href=\"#DejaVuSans-Bold-83\"/>\n     </g>\n    </g>\n   </g>\n   <g id=\"text_3\">\n    <g clip-path=\"url(#pdcfd128cf5)\">\n     <!-- TEST_OUTPUT_D -->\n     <g transform=\"translate(364.547386 269.688047)scale(0.12 -0.12)\">\n      <use xlink:href=\"#DejaVuSans-Bold-84\"/>\n      <use x=\"68.212891\" xlink:href=\"#DejaVuSans-Bold-69\"/>\n      <use x=\"136.523438\" xlink:href=\"#DejaVuSans-Bold-83\"/>\n      <use x=\"208.544922\" xlink:href=\"#DejaVuSans-Bold-84\"/>\n      <use x=\"276.757812\" xlink:href=\"#DejaVuSans-Bold-95\"/>\n      <use x=\"326.757812\" xlink:href=\"#DejaVuSans-Bold-79\"/>\n      <use x=\"411.767578\" xlink:href=\"#DejaVuSans-Bold-85\"/>\n      <use x=\"492.96875\" xlink:href=\"#DejaVuSans-Bold-84\"/>\n      <use x=\"561.181641\" xlink:href=\"#DejaVuSans-Bold-80\"/>\n      <use x=\"634.472656\" xlink:href=\"#DejaVuSans-Bold-85\"/>\n      <use x=\"715.673828\" xlink:href=\"#DejaVuSans-Bold-84\"/>\n      <use x=\"783.886719\" xlink:href=\"#DejaVuSans-Bold-95\"/>\n      <use x=\"833.886719\" xlink:href=\"#DejaVuSans-Bold-68\"/>\n     </g>\n    </g>\n   </g>\n  </g>\n </g>\n <defs>\n  <clipPath id=\"pdcfd128cf5\">\n   <rect height=\"288\" width=\"432\" x=\"7.2\" y=\"7.2\"/>\n  </clipPath>\n </defs>\n</svg>\n",
      "image/png": "[encoded data removed]"
     },
     "metadata": {}
    }
   ],
   "source": [
    "from annotation_driven_dataframe_calcs.annotation_driven_dataframe_calcs import join_registered_series_values\n",
    "\n",
    "enhanced_result = join_registered_series_values(result)\n",
    "\n",
    "enhanced_result"
   ]
  },
  {
   "cell_type": "code",
   "execution_count": null,
   "metadata": {},
   "outputs": [],
   "source": []
  }
 ]
}