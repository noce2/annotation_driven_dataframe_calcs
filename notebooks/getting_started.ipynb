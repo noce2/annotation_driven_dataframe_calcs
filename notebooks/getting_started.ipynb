{
 "metadata": {
  "language_info": {
   "codemirror_mode": {
    "name": "ipython",
    "version": 3
   },
   "file_extension": ".py",
   "mimetype": "text/x-python",
   "name": "python",
   "nbconvert_exporter": "python",
   "pygments_lexer": "ipython3",
   "version": "3.8.5-final"
  },
  "orig_nbformat": 2,
  "kernelspec": {
   "name": "python3",
   "display_name": "Python 3.8.5 64-bit ('annotation_driven_dataframe_calcs': conda)",
   "metadata": {
    "interpreter": {
     "hash": "4d4a7c4c2a72dc6b629805efd0975ad20f27a612c5e20f61e65c505b1f2d0c91"
    }
   }
  }
 },
 "nbformat": 4,
 "nbformat_minor": 2,
 "cells": [
  {
   "source": [
    "## Getting Started\n",
    "First generating some test data"
   ],
   "cell_type": "markdown",
   "metadata": {}
  },
  {
   "cell_type": "code",
   "execution_count": 1,
   "metadata": {},
   "outputs": [],
   "source": [
    "%load_ext autoreload\n",
    "%autoreload 2"
   ]
  },
  {
   "cell_type": "code",
   "execution_count": 2,
   "metadata": {},
   "outputs": [],
   "source": [
    "import pandas as pd\n",
    "from annotation_driven_dataframe_calcs.annotation_driven_dataframe_calcs import expand_for_timesteps\n",
    "from annotation_driven_dataframe_calcs.column_names import TIMESTEP_NO, ACCOUNT_NO, PARAM_C, PARAM_B, PARAM_A\n",
    "\n",
    "fake_data = pd.DataFrame({\n",
    "    ACCOUNT_NO: [1, 2, 3, 4],\n",
    "    PARAM_A: [201908, 201907, 201906, 201905],\n",
    "    PARAM_B: [10, 15, 20, 25],\n",
    "    PARAM_C: [5, 6, 7, 8]\n",
    "})"
   ]
  },
  {
   "cell_type": "code",
   "execution_count": 3,
   "metadata": {},
   "outputs": [
    {
     "output_type": "execute_result",
     "data": {
      "text/plain": [
       "    ACCT_NO  COLUMN_A  COLUMN_B  COLUMN_C TIMESTEP_NO\n",
       "0         1    201908        10         5           1\n",
       "1         1    201908        10         5           2\n",
       "2         1    201908        10         5           3\n",
       "3         2    201907        15         6           1\n",
       "4         2    201907        15         6           2\n",
       "5         2    201907        15         6           3\n",
       "6         3    201906        20         7           1\n",
       "7         3    201906        20         7           2\n",
       "8         3    201906        20         7           3\n",
       "9         4    201905        25         8           1\n",
       "10        4    201905        25         8           2\n",
       "11        4    201905        25         8           3"
      ],
      "text/html": "<div>\n<style scoped>\n    .dataframe tbody tr th:only-of-type {\n        vertical-align: middle;\n    }\n\n    .dataframe tbody tr th {\n        vertical-align: top;\n    }\n\n    .dataframe thead th {\n        text-align: right;\n    }\n</style>\n<table border=\"1\" class=\"dataframe\">\n  <thead>\n    <tr style=\"text-align: right;\">\n      <th></th>\n      <th>ACCT_NO</th>\n      <th>COLUMN_A</th>\n      <th>COLUMN_B</th>\n      <th>COLUMN_C</th>\n      <th>TIMESTEP_NO</th>\n    </tr>\n  </thead>\n  <tbody>\n    <tr>\n      <th>0</th>\n      <td>1</td>\n      <td>201908</td>\n      <td>10</td>\n      <td>5</td>\n      <td>1</td>\n    </tr>\n    <tr>\n      <th>1</th>\n      <td>1</td>\n      <td>201908</td>\n      <td>10</td>\n      <td>5</td>\n      <td>2</td>\n    </tr>\n    <tr>\n      <th>2</th>\n      <td>1</td>\n      <td>201908</td>\n      <td>10</td>\n      <td>5</td>\n      <td>3</td>\n    </tr>\n    <tr>\n      <th>3</th>\n      <td>2</td>\n      <td>201907</td>\n      <td>15</td>\n      <td>6</td>\n      <td>1</td>\n    </tr>\n    <tr>\n      <th>4</th>\n      <td>2</td>\n      <td>201907</td>\n      <td>15</td>\n      <td>6</td>\n      <td>2</td>\n    </tr>\n    <tr>\n      <th>5</th>\n      <td>2</td>\n      <td>201907</td>\n      <td>15</td>\n      <td>6</td>\n      <td>3</td>\n    </tr>\n    <tr>\n      <th>6</th>\n      <td>3</td>\n      <td>201906</td>\n      <td>20</td>\n      <td>7</td>\n      <td>1</td>\n    </tr>\n    <tr>\n      <th>7</th>\n      <td>3</td>\n      <td>201906</td>\n      <td>20</td>\n      <td>7</td>\n      <td>2</td>\n    </tr>\n    <tr>\n      <th>8</th>\n      <td>3</td>\n      <td>201906</td>\n      <td>20</td>\n      <td>7</td>\n      <td>3</td>\n    </tr>\n    <tr>\n      <th>9</th>\n      <td>4</td>\n      <td>201905</td>\n      <td>25</td>\n      <td>8</td>\n      <td>1</td>\n    </tr>\n    <tr>\n      <th>10</th>\n      <td>4</td>\n      <td>201905</td>\n      <td>25</td>\n      <td>8</td>\n      <td>2</td>\n    </tr>\n    <tr>\n      <th>11</th>\n      <td>4</td>\n      <td>201905</td>\n      <td>25</td>\n      <td>8</td>\n      <td>3</td>\n    </tr>\n  </tbody>\n</table>\n</div>"
     },
     "metadata": {},
     "execution_count": 3
    }
   ],
   "source": [
    "result = expand_for_timesteps(fake_data, 1, 3)\n",
    "result"
   ]
  },
  {
   "cell_type": "code",
   "execution_count": null,
   "metadata": {},
   "outputs": [],
   "source": []
  }
 ]
}