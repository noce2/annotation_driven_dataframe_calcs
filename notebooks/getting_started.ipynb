{
 "metadata": {
  "language_info": {
   "codemirror_mode": {
    "name": "ipython",
    "version": 3
   },
   "file_extension": ".py",
   "mimetype": "text/x-python",
   "name": "python",
   "nbconvert_exporter": "python",
   "pygments_lexer": "ipython3",
   "version": "3.8.5-final"
  },
  "orig_nbformat": 2,
  "kernelspec": {
   "name": "python3",
   "display_name": "Python 3.8.5 64-bit ('annotation_driven_dataframe_calcs': conda)",
   "metadata": {
    "interpreter": {
     "hash": "4d4a7c4c2a72dc6b629805efd0975ad20f27a612c5e20f61e65c505b1f2d0c91"
    }
   }
  }
 },
 "nbformat": 4,
 "nbformat_minor": 2,
 "cells": [
  {
   "source": [
    "## Getting Started\n",
    "First generating some test data"
   ],
   "cell_type": "markdown",
   "metadata": {}
  },
  {
   "cell_type": "code",
   "execution_count": 1,
   "metadata": {},
   "outputs": [],
   "source": [
    "%load_ext autoreload\n",
    "%autoreload 2"
   ]
  },
  {
   "cell_type": "code",
   "execution_count": 2,
   "metadata": {},
   "outputs": [
    {
     "output_type": "stream",
     "name": "stderr",
     "text": [
      "2020-12-15 05:40:32.835 | DEBUG    | annotation_driven_dataframe_calcs.registry:<module>:11 - Creating the registry\n",
      "2020-12-15 05:40:32.836 | DEBUG    | annotation_driven_dataframe_calcs.registry:<module>:13 - Registry created\n"
     ]
    }
   ],
   "source": [
    "import pandas as pd\n",
    "from annotation_driven_dataframe_calcs.annotation_driven_dataframe_calcs import expand_for_timesteps\n",
    "from annotation_driven_dataframe_calcs.column_names import TIMESTEP_NO, ACCOUNT_NO, PARAM_C, PARAM_B, PARAM_A\n",
    "\n",
    "fake_data = pd.DataFrame({\n",
    "    ACCOUNT_NO: [1, 2, 3, 4],\n",
    "    PARAM_A: [201908, 201907, 201906, 201905],\n",
    "    PARAM_B: [10, 15, 20, 25],\n",
    "    PARAM_C: [5, 6, 7, 8]\n",
    "})"
   ]
  },
  {
   "cell_type": "code",
   "execution_count": 3,
   "metadata": {},
   "outputs": [
    {
     "output_type": "execute_result",
     "data": {
      "text/plain": [
       "                     COLUMN_A  COLUMN_B  COLUMN_C\n",
       "ACCT_NO TIMESTEP_NO                              \n",
       "1       1              201908        10         5\n",
       "        2              201908        10         5\n",
       "        3              201908        10         5\n",
       "2       1              201907        15         6\n",
       "        2              201907        15         6\n",
       "        3              201907        15         6\n",
       "3       1              201906        20         7\n",
       "        2              201906        20         7\n",
       "        3              201906        20         7\n",
       "4       1              201905        25         8\n",
       "        2              201905        25         8\n",
       "        3              201905        25         8"
      ],
      "text/html": "<div>\n<style scoped>\n    .dataframe tbody tr th:only-of-type {\n        vertical-align: middle;\n    }\n\n    .dataframe tbody tr th {\n        vertical-align: top;\n    }\n\n    .dataframe thead th {\n        text-align: right;\n    }\n</style>\n<table border=\"1\" class=\"dataframe\">\n  <thead>\n    <tr style=\"text-align: right;\">\n      <th></th>\n      <th></th>\n      <th>COLUMN_A</th>\n      <th>COLUMN_B</th>\n      <th>COLUMN_C</th>\n    </tr>\n    <tr>\n      <th>ACCT_NO</th>\n      <th>TIMESTEP_NO</th>\n      <th></th>\n      <th></th>\n      <th></th>\n    </tr>\n  </thead>\n  <tbody>\n    <tr>\n      <th rowspan=\"3\" valign=\"top\">1</th>\n      <th>1</th>\n      <td>201908</td>\n      <td>10</td>\n      <td>5</td>\n    </tr>\n    <tr>\n      <th>2</th>\n      <td>201908</td>\n      <td>10</td>\n      <td>5</td>\n    </tr>\n    <tr>\n      <th>3</th>\n      <td>201908</td>\n      <td>10</td>\n      <td>5</td>\n    </tr>\n    <tr>\n      <th rowspan=\"3\" valign=\"top\">2</th>\n      <th>1</th>\n      <td>201907</td>\n      <td>15</td>\n      <td>6</td>\n    </tr>\n    <tr>\n      <th>2</th>\n      <td>201907</td>\n      <td>15</td>\n      <td>6</td>\n    </tr>\n    <tr>\n      <th>3</th>\n      <td>201907</td>\n      <td>15</td>\n      <td>6</td>\n    </tr>\n    <tr>\n      <th rowspan=\"3\" valign=\"top\">3</th>\n      <th>1</th>\n      <td>201906</td>\n      <td>20</td>\n      <td>7</td>\n    </tr>\n    <tr>\n      <th>2</th>\n      <td>201906</td>\n      <td>20</td>\n      <td>7</td>\n    </tr>\n    <tr>\n      <th>3</th>\n      <td>201906</td>\n      <td>20</td>\n      <td>7</td>\n    </tr>\n    <tr>\n      <th rowspan=\"3\" valign=\"top\">4</th>\n      <th>1</th>\n      <td>201905</td>\n      <td>25</td>\n      <td>8</td>\n    </tr>\n    <tr>\n      <th>2</th>\n      <td>201905</td>\n      <td>25</td>\n      <td>8</td>\n    </tr>\n    <tr>\n      <th>3</th>\n      <td>201905</td>\n      <td>25</td>\n      <td>8</td>\n    </tr>\n  </tbody>\n</table>\n</div>"
     },
     "metadata": {},
     "execution_count": 3
    }
   ],
   "source": [
    "result = expand_for_timesteps(fake_data, 1, 3)\n",
    "result"
   ]
  },
  {
   "cell_type": "code",
   "execution_count": 4,
   "metadata": {},
   "outputs": [
    {
     "output_type": "stream",
     "name": "stderr",
     "text": [
      "2020-12-15 05:40:43.278 | DEBUG    | annotation_driven_dataframe_calcs.registry:register:32 - Registering series SERIES_A_PRIME and its dependencies []\n",
      "2020-12-15 05:40:43.285 | DEBUG    | annotation_driven_dataframe_calcs.first_stage_calcs:closed_generate_series_a_prime_mapper:50 - rolling window is currently at 1 time_step 1\n",
      "2020-12-15 05:40:43.285 | DEBUG    | annotation_driven_dataframe_calcs.caching_tools:__getitem__:12 - searching for key 1_1 in the cache\n",
      "2020-12-15 05:40:43.287 | DEBUG    | annotation_driven_dataframe_calcs.first_stage_calcs:closed_generate_series_a_prime_mapper:50 - rolling window is currently at 1 time_step 2\n",
      "2020-12-15 05:40:43.288 | DEBUG    | annotation_driven_dataframe_calcs.caching_tools:__getitem__:12 - searching for key 1_1 in the cache\n",
      "2020-12-15 05:40:43.290 | DEBUG    | annotation_driven_dataframe_calcs.caching_tools:__getitem__:12 - searching for key 1_2 in the cache\n",
      "2020-12-15 05:40:43.292 | DEBUG    | annotation_driven_dataframe_calcs.first_stage_calcs:closed_generate_series_a_prime_mapper:50 - rolling window is currently at 1 time_step 3\n",
      "2020-12-15 05:40:43.293 | DEBUG    | annotation_driven_dataframe_calcs.caching_tools:__getitem__:12 - searching for key 1_2 in the cache\n",
      "2020-12-15 05:40:43.295 | DEBUG    | annotation_driven_dataframe_calcs.caching_tools:__getitem__:12 - searching for key 1_3 in the cache\n",
      "2020-12-15 05:40:43.296 | DEBUG    | annotation_driven_dataframe_calcs.first_stage_calcs:closed_generate_series_a_prime_mapper:50 - rolling window is currently at 2 time_step 1\n",
      "2020-12-15 05:40:43.297 | DEBUG    | annotation_driven_dataframe_calcs.caching_tools:__getitem__:12 - searching for key 2_1 in the cache\n",
      "2020-12-15 05:40:43.298 | DEBUG    | annotation_driven_dataframe_calcs.first_stage_calcs:closed_generate_series_a_prime_mapper:50 - rolling window is currently at 2 time_step 2\n",
      "2020-12-15 05:40:43.299 | DEBUG    | annotation_driven_dataframe_calcs.caching_tools:__getitem__:12 - searching for key 2_1 in the cache\n",
      "2020-12-15 05:40:43.300 | DEBUG    | annotation_driven_dataframe_calcs.caching_tools:__getitem__:12 - searching for key 2_2 in the cache\n",
      "2020-12-15 05:40:43.301 | DEBUG    | annotation_driven_dataframe_calcs.first_stage_calcs:closed_generate_series_a_prime_mapper:50 - rolling window is currently at 2 time_step 3\n",
      "2020-12-15 05:40:43.302 | DEBUG    | annotation_driven_dataframe_calcs.caching_tools:__getitem__:12 - searching for key 2_2 in the cache\n",
      "2020-12-15 05:40:43.304 | DEBUG    | annotation_driven_dataframe_calcs.caching_tools:__getitem__:12 - searching for key 2_3 in the cache\n",
      "2020-12-15 05:40:43.305 | DEBUG    | annotation_driven_dataframe_calcs.first_stage_calcs:closed_generate_series_a_prime_mapper:50 - rolling window is currently at 3 time_step 1\n",
      "2020-12-15 05:40:43.306 | DEBUG    | annotation_driven_dataframe_calcs.caching_tools:__getitem__:12 - searching for key 3_1 in the cache\n",
      "2020-12-15 05:40:43.307 | DEBUG    | annotation_driven_dataframe_calcs.first_stage_calcs:closed_generate_series_a_prime_mapper:50 - rolling window is currently at 3 time_step 2\n",
      "2020-12-15 05:40:43.308 | DEBUG    | annotation_driven_dataframe_calcs.caching_tools:__getitem__:12 - searching for key 3_1 in the cache\n",
      "2020-12-15 05:40:43.309 | DEBUG    | annotation_driven_dataframe_calcs.caching_tools:__getitem__:12 - searching for key 3_2 in the cache\n",
      "2020-12-15 05:40:43.310 | DEBUG    | annotation_driven_dataframe_calcs.first_stage_calcs:closed_generate_series_a_prime_mapper:50 - rolling window is currently at 3 time_step 3\n",
      "2020-12-15 05:40:43.311 | DEBUG    | annotation_driven_dataframe_calcs.caching_tools:__getitem__:12 - searching for key 3_2 in the cache\n",
      "2020-12-15 05:40:43.312 | DEBUG    | annotation_driven_dataframe_calcs.caching_tools:__getitem__:12 - searching for key 3_3 in the cache\n",
      "2020-12-15 05:40:43.313 | DEBUG    | annotation_driven_dataframe_calcs.first_stage_calcs:closed_generate_series_a_prime_mapper:50 - rolling window is currently at 4 time_step 1\n",
      "2020-12-15 05:40:43.314 | DEBUG    | annotation_driven_dataframe_calcs.caching_tools:__getitem__:12 - searching for key 4_1 in the cache\n",
      "2020-12-15 05:40:43.315 | DEBUG    | annotation_driven_dataframe_calcs.first_stage_calcs:closed_generate_series_a_prime_mapper:50 - rolling window is currently at 4 time_step 2\n",
      "2020-12-15 05:40:43.315 | DEBUG    | annotation_driven_dataframe_calcs.caching_tools:__getitem__:12 - searching for key 4_1 in the cache\n",
      "2020-12-15 05:40:43.318 | DEBUG    | annotation_driven_dataframe_calcs.caching_tools:__getitem__:12 - searching for key 4_2 in the cache\n",
      "2020-12-15 05:40:43.320 | DEBUG    | annotation_driven_dataframe_calcs.first_stage_calcs:closed_generate_series_a_prime_mapper:50 - rolling window is currently at 4 time_step 3\n",
      "2020-12-15 05:40:43.320 | DEBUG    | annotation_driven_dataframe_calcs.caching_tools:__getitem__:12 - searching for key 4_2 in the cache\n",
      "2020-12-15 05:40:43.322 | DEBUG    | annotation_driven_dataframe_calcs.caching_tools:__getitem__:12 - searching for key 4_3 in the cache\n"
     ]
    },
    {
     "output_type": "execute_result",
     "data": {
      "text/plain": [
       "ACCT_NO  TIMESTEP_NO\n",
       "1        1              100.0\n",
       "         2               85.0\n",
       "         3               70.0\n",
       "2        1              100.0\n",
       "         2               79.0\n",
       "         3               58.0\n",
       "3        1              100.0\n",
       "         2               73.0\n",
       "         3               46.0\n",
       "4        1              100.0\n",
       "         2               67.0\n",
       "         3               34.0\n",
       "Name: SERIES_A_PRIME, dtype: float64"
      ]
     },
     "metadata": {},
     "execution_count": 4
    }
   ],
   "source": [
    "from annotation_driven_dataframe_calcs.first_stage_calcs import generate_series_a_prime\n",
    "\n",
    "new_series = generate_series_a_prime(result)\n",
    "new_series"
   ]
  },
  {
   "cell_type": "code",
   "execution_count": 8,
   "metadata": {},
   "outputs": [
    {
     "output_type": "stream",
     "name": "stderr",
     "text": [
      "2020-12-15 05:44:24.729 | DEBUG    | annotation_driven_dataframe_calcs.annotation_driven_dataframe_calcs:join_registered_series_values:35 - the registered series and handlers are: ['SERIES_A_PRIME']\n",
      "2020-12-15 05:44:24.730 | DEBUG    | annotation_driven_dataframe_calcs.annotation_driven_dataframe_calcs:__calculate_series_and_merge_with_df:46 - calculating the series SERIES_A_PRIME\n",
      "2020-12-15 05:44:24.734 | DEBUG    | annotation_driven_dataframe_calcs.first_stage_calcs:closed_generate_series_a_prime_mapper:50 - rolling window is currently at 1 time_step 1\n",
      "2020-12-15 05:44:24.735 | DEBUG    | annotation_driven_dataframe_calcs.caching_tools:__getitem__:12 - searching for key 1_1 in the cache\n",
      "2020-12-15 05:44:24.738 | DEBUG    | annotation_driven_dataframe_calcs.first_stage_calcs:closed_generate_series_a_prime_mapper:50 - rolling window is currently at 1 time_step 2\n",
      "2020-12-15 05:44:24.739 | DEBUG    | annotation_driven_dataframe_calcs.caching_tools:__getitem__:12 - searching for key 1_1 in the cache\n",
      "2020-12-15 05:44:24.740 | DEBUG    | annotation_driven_dataframe_calcs.caching_tools:__getitem__:12 - searching for key 1_2 in the cache\n",
      "2020-12-15 05:44:24.742 | DEBUG    | annotation_driven_dataframe_calcs.first_stage_calcs:closed_generate_series_a_prime_mapper:50 - rolling window is currently at 1 time_step 3\n",
      "2020-12-15 05:44:24.742 | DEBUG    | annotation_driven_dataframe_calcs.caching_tools:__getitem__:12 - searching for key 1_2 in the cache\n",
      "2020-12-15 05:44:24.745 | DEBUG    | annotation_driven_dataframe_calcs.caching_tools:__getitem__:12 - searching for key 1_3 in the cache\n",
      "2020-12-15 05:44:24.746 | DEBUG    | annotation_driven_dataframe_calcs.first_stage_calcs:closed_generate_series_a_prime_mapper:50 - rolling window is currently at 2 time_step 1\n",
      "2020-12-15 05:44:24.747 | DEBUG    | annotation_driven_dataframe_calcs.caching_tools:__getitem__:12 - searching for key 2_1 in the cache\n",
      "2020-12-15 05:44:24.748 | DEBUG    | annotation_driven_dataframe_calcs.first_stage_calcs:closed_generate_series_a_prime_mapper:50 - rolling window is currently at 2 time_step 2\n",
      "2020-12-15 05:44:24.749 | DEBUG    | annotation_driven_dataframe_calcs.caching_tools:__getitem__:12 - searching for key 2_1 in the cache\n",
      "2020-12-15 05:44:24.751 | DEBUG    | annotation_driven_dataframe_calcs.caching_tools:__getitem__:12 - searching for key 2_2 in the cache\n",
      "2020-12-15 05:44:24.752 | DEBUG    | annotation_driven_dataframe_calcs.first_stage_calcs:closed_generate_series_a_prime_mapper:50 - rolling window is currently at 2 time_step 3\n",
      "2020-12-15 05:44:24.752 | DEBUG    | annotation_driven_dataframe_calcs.caching_tools:__getitem__:12 - searching for key 2_2 in the cache\n",
      "2020-12-15 05:44:24.753 | DEBUG    | annotation_driven_dataframe_calcs.caching_tools:__getitem__:12 - searching for key 2_3 in the cache\n",
      "2020-12-15 05:44:24.754 | DEBUG    | annotation_driven_dataframe_calcs.first_stage_calcs:closed_generate_series_a_prime_mapper:50 - rolling window is currently at 3 time_step 1\n",
      "2020-12-15 05:44:24.755 | DEBUG    | annotation_driven_dataframe_calcs.caching_tools:__getitem__:12 - searching for key 3_1 in the cache\n",
      "2020-12-15 05:44:24.756 | DEBUG    | annotation_driven_dataframe_calcs.first_stage_calcs:closed_generate_series_a_prime_mapper:50 - rolling window is currently at 3 time_step 2\n",
      "2020-12-15 05:44:24.758 | DEBUG    | annotation_driven_dataframe_calcs.caching_tools:__getitem__:12 - searching for key 3_1 in the cache\n",
      "2020-12-15 05:44:24.759 | DEBUG    | annotation_driven_dataframe_calcs.caching_tools:__getitem__:12 - searching for key 3_2 in the cache\n",
      "2020-12-15 05:44:24.760 | DEBUG    | annotation_driven_dataframe_calcs.first_stage_calcs:closed_generate_series_a_prime_mapper:50 - rolling window is currently at 3 time_step 3\n",
      "2020-12-15 05:44:24.761 | DEBUG    | annotation_driven_dataframe_calcs.caching_tools:__getitem__:12 - searching for key 3_2 in the cache\n",
      "2020-12-15 05:44:24.763 | DEBUG    | annotation_driven_dataframe_calcs.caching_tools:__getitem__:12 - searching for key 3_3 in the cache\n",
      "2020-12-15 05:44:24.764 | DEBUG    | annotation_driven_dataframe_calcs.first_stage_calcs:closed_generate_series_a_prime_mapper:50 - rolling window is currently at 4 time_step 1\n",
      "2020-12-15 05:44:24.765 | DEBUG    | annotation_driven_dataframe_calcs.caching_tools:__getitem__:12 - searching for key 4_1 in the cache\n",
      "2020-12-15 05:44:24.766 | DEBUG    | annotation_driven_dataframe_calcs.first_stage_calcs:closed_generate_series_a_prime_mapper:50 - rolling window is currently at 4 time_step 2\n",
      "2020-12-15 05:44:24.767 | DEBUG    | annotation_driven_dataframe_calcs.caching_tools:__getitem__:12 - searching for key 4_1 in the cache\n",
      "2020-12-15 05:44:24.769 | DEBUG    | annotation_driven_dataframe_calcs.caching_tools:__getitem__:12 - searching for key 4_2 in the cache\n",
      "2020-12-15 05:44:24.770 | DEBUG    | annotation_driven_dataframe_calcs.first_stage_calcs:closed_generate_series_a_prime_mapper:50 - rolling window is currently at 4 time_step 3\n",
      "2020-12-15 05:44:24.771 | DEBUG    | annotation_driven_dataframe_calcs.caching_tools:__getitem__:12 - searching for key 4_2 in the cache\n",
      "2020-12-15 05:44:24.772 | DEBUG    | annotation_driven_dataframe_calcs.caching_tools:__getitem__:12 - searching for key 4_3 in the cache\n",
      "2020-12-15 05:44:24.774 | DEBUG    | annotation_driven_dataframe_calcs.annotation_driven_dataframe_calcs:__calculate_series_and_merge_with_df:48 - series SERIES_A_PRIME calcuated as:\n",
      " ACCT_NO  TIMESTEP_NO\n",
      "1        1              100.0\n",
      "         2               85.0\n",
      "         3               70.0\n",
      "2        1              100.0\n",
      "         2               79.0\n",
      "         3               58.0\n",
      "3        1              100.0\n",
      "         2               73.0\n",
      "         3               46.0\n",
      "4        1              100.0\n",
      "         2               67.0\n",
      "         3               34.0\n",
      "Name: SERIES_A_PRIME, dtype: float64\n"
     ]
    },
    {
     "output_type": "execute_result",
     "data": {
      "text/plain": [
       "                     COLUMN_A  COLUMN_B  COLUMN_C  SERIES_A_PRIME\n",
       "ACCT_NO TIMESTEP_NO                                              \n",
       "1       1              201908        10         5           100.0\n",
       "        2              201908        10         5            85.0\n",
       "        3              201908        10         5            70.0\n",
       "2       1              201907        15         6           100.0\n",
       "        2              201907        15         6            79.0\n",
       "        3              201907        15         6            58.0\n",
       "3       1              201906        20         7           100.0\n",
       "        2              201906        20         7            73.0\n",
       "        3              201906        20         7            46.0\n",
       "4       1              201905        25         8           100.0\n",
       "        2              201905        25         8            67.0\n",
       "        3              201905        25         8            34.0"
      ],
      "text/html": "<div>\n<style scoped>\n    .dataframe tbody tr th:only-of-type {\n        vertical-align: middle;\n    }\n\n    .dataframe tbody tr th {\n        vertical-align: top;\n    }\n\n    .dataframe thead th {\n        text-align: right;\n    }\n</style>\n<table border=\"1\" class=\"dataframe\">\n  <thead>\n    <tr style=\"text-align: right;\">\n      <th></th>\n      <th></th>\n      <th>COLUMN_A</th>\n      <th>COLUMN_B</th>\n      <th>COLUMN_C</th>\n      <th>SERIES_A_PRIME</th>\n    </tr>\n    <tr>\n      <th>ACCT_NO</th>\n      <th>TIMESTEP_NO</th>\n      <th></th>\n      <th></th>\n      <th></th>\n      <th></th>\n    </tr>\n  </thead>\n  <tbody>\n    <tr>\n      <th rowspan=\"3\" valign=\"top\">1</th>\n      <th>1</th>\n      <td>201908</td>\n      <td>10</td>\n      <td>5</td>\n      <td>100.0</td>\n    </tr>\n    <tr>\n      <th>2</th>\n      <td>201908</td>\n      <td>10</td>\n      <td>5</td>\n      <td>85.0</td>\n    </tr>\n    <tr>\n      <th>3</th>\n      <td>201908</td>\n      <td>10</td>\n      <td>5</td>\n      <td>70.0</td>\n    </tr>\n    <tr>\n      <th rowspan=\"3\" valign=\"top\">2</th>\n      <th>1</th>\n      <td>201907</td>\n      <td>15</td>\n      <td>6</td>\n      <td>100.0</td>\n    </tr>\n    <tr>\n      <th>2</th>\n      <td>201907</td>\n      <td>15</td>\n      <td>6</td>\n      <td>79.0</td>\n    </tr>\n    <tr>\n      <th>3</th>\n      <td>201907</td>\n      <td>15</td>\n      <td>6</td>\n      <td>58.0</td>\n    </tr>\n    <tr>\n      <th rowspan=\"3\" valign=\"top\">3</th>\n      <th>1</th>\n      <td>201906</td>\n      <td>20</td>\n      <td>7</td>\n      <td>100.0</td>\n    </tr>\n    <tr>\n      <th>2</th>\n      <td>201906</td>\n      <td>20</td>\n      <td>7</td>\n      <td>73.0</td>\n    </tr>\n    <tr>\n      <th>3</th>\n      <td>201906</td>\n      <td>20</td>\n      <td>7</td>\n      <td>46.0</td>\n    </tr>\n    <tr>\n      <th rowspan=\"3\" valign=\"top\">4</th>\n      <th>1</th>\n      <td>201905</td>\n      <td>25</td>\n      <td>8</td>\n      <td>100.0</td>\n    </tr>\n    <tr>\n      <th>2</th>\n      <td>201905</td>\n      <td>25</td>\n      <td>8</td>\n      <td>67.0</td>\n    </tr>\n    <tr>\n      <th>3</th>\n      <td>201905</td>\n      <td>25</td>\n      <td>8</td>\n      <td>34.0</td>\n    </tr>\n  </tbody>\n</table>\n</div>"
     },
     "metadata": {},
     "execution_count": 8
    }
   ],
   "source": [
    "from annotation_driven_dataframe_calcs.annotation_driven_dataframe_calcs import join_registered_series_values\n",
    "\n",
    "enhanced_result = join_registered_series_values(result)\n",
    "\n",
    "enhanced_result"
   ]
  },
  {
   "cell_type": "code",
   "execution_count": null,
   "metadata": {},
   "outputs": [],
   "source": []
  }
 ]
}